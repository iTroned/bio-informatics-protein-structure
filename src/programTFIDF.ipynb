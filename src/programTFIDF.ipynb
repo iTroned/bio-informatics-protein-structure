{
 "cells": [
  {
   "cell_type": "markdown",
   "metadata": {},
   "source": [
    "***Imports***"
   ]
  },
  {
   "cell_type": "code",
   "execution_count": 1,
   "metadata": {},
   "outputs": [],
   "source": [
    "# Imports\n",
    "import numpy as np\n",
    "import tensorflow as tf\n",
    "import pandas as pd\n",
    "import matplotlib.pyplot as plt\n",
    "\n",
    "\n",
    "from nltk.probability import FreqDist\n",
    "from sklearn.model_selection import train_test_split\n",
    "from sklearn.preprocessing import LabelEncoder\n",
    "from gensim.models import TfidfModel\n",
    "from gensim.corpora import Dictionary\n",
    "from tensorflow.keras.preprocessing.text import Tokenizer\n",
    "from tensorflow.keras.preprocessing.sequence import pad_sequences\n",
    "\n",
    "from tensorflow.keras.models import Sequential\n",
    "from tensorflow.keras.layers import Embedding, LSTM, GRU, Dense, TimeDistributed, Bidirectional, Dropout\n",
    "from tensorflow.keras.callbacks import EarlyStopping"
   ]
  },
  {
   "cell_type": "code",
   "execution_count": 6,
   "metadata": {},
   "outputs": [
    {
     "name": "stdout",
     "output_type": "stream",
     "text": [
      "Num GPUs Available:  0\n"
     ]
    }
   ],
   "source": [
    "print(\"Num GPUs Available: \", len(tf.config.list_physical_devices('GPU'))) #Check if GPU is available before attempting any training. If not it will default at CPU."
   ]
  },
  {
   "cell_type": "markdown",
   "metadata": {},
   "source": [
    "***Read the data***"
   ]
  },
  {
   "cell_type": "code",
   "execution_count": 2,
   "metadata": {},
   "outputs": [
    {
     "data": {
      "text/html": [
       "<div>\n",
       "<style scoped>\n",
       "    .dataframe tbody tr th:only-of-type {\n",
       "        vertical-align: middle;\n",
       "    }\n",
       "\n",
       "    .dataframe tbody tr th {\n",
       "        vertical-align: top;\n",
       "    }\n",
       "\n",
       "    .dataframe thead th {\n",
       "        text-align: right;\n",
       "    }\n",
       "</style>\n",
       "<table border=\"1\" class=\"dataframe\">\n",
       "  <thead>\n",
       "    <tr style=\"text-align: right;\">\n",
       "      <th></th>\n",
       "      <th>pdb_id</th>\n",
       "      <th>chain_code</th>\n",
       "      <th>seq</th>\n",
       "      <th>sst8</th>\n",
       "      <th>sst3</th>\n",
       "      <th>len</th>\n",
       "      <th>has_nonstd_aa</th>\n",
       "      <th>Exptl.</th>\n",
       "      <th>resolution</th>\n",
       "      <th>R-factor</th>\n",
       "      <th>FreeRvalue</th>\n",
       "    </tr>\n",
       "  </thead>\n",
       "  <tbody>\n",
       "    <tr>\n",
       "      <th>0</th>\n",
       "      <td>1FV1</td>\n",
       "      <td>F</td>\n",
       "      <td>NPVVHFFKNIVTPRTPPPSQ</td>\n",
       "      <td>CCCCCBCCCCCCCCCCCCCC</td>\n",
       "      <td>CCCCCECCCCCCCCCCCCCC</td>\n",
       "      <td>20</td>\n",
       "      <td>False</td>\n",
       "      <td>XRAY</td>\n",
       "      <td>1.90</td>\n",
       "      <td>0.23</td>\n",
       "      <td>0.27</td>\n",
       "    </tr>\n",
       "    <tr>\n",
       "      <th>1</th>\n",
       "      <td>1LM8</td>\n",
       "      <td>H</td>\n",
       "      <td>DLDLEMLAPYIPMDDDFQLR</td>\n",
       "      <td>CCCCCCCCCBCCSCCCEECC</td>\n",
       "      <td>CCCCCCCCCECCCCCCEECC</td>\n",
       "      <td>20</td>\n",
       "      <td>False</td>\n",
       "      <td>XRAY</td>\n",
       "      <td>1.85</td>\n",
       "      <td>0.20</td>\n",
       "      <td>0.24</td>\n",
       "    </tr>\n",
       "    <tr>\n",
       "      <th>2</th>\n",
       "      <td>1O06</td>\n",
       "      <td>A</td>\n",
       "      <td>EEDPDLKAAIQESLREAEEA</td>\n",
       "      <td>CCCHHHHHHHHHHHHHHHTC</td>\n",
       "      <td>CCCHHHHHHHHHHHHHHHCC</td>\n",
       "      <td>20</td>\n",
       "      <td>False</td>\n",
       "      <td>XRAY</td>\n",
       "      <td>1.45</td>\n",
       "      <td>0.19</td>\n",
       "      <td>0.22</td>\n",
       "    </tr>\n",
       "    <tr>\n",
       "      <th>3</th>\n",
       "      <td>1QOW</td>\n",
       "      <td>D</td>\n",
       "      <td>CTFTLPGGGGVCTLTSECI*</td>\n",
       "      <td>CCTTSCTTCSSTTSSTTCCC</td>\n",
       "      <td>CCCCCCCCCCCCCCCCCCCC</td>\n",
       "      <td>20</td>\n",
       "      <td>True</td>\n",
       "      <td>XRAY</td>\n",
       "      <td>1.06</td>\n",
       "      <td>0.14</td>\n",
       "      <td>1.00</td>\n",
       "    </tr>\n",
       "    <tr>\n",
       "      <th>4</th>\n",
       "      <td>1RDQ</td>\n",
       "      <td>I</td>\n",
       "      <td>TTYADFIASGRTGRRNAIHD</td>\n",
       "      <td>CHHHHHHTSSCSSCCCCEEC</td>\n",
       "      <td>CHHHHHHCCCCCCCCCCEEC</td>\n",
       "      <td>20</td>\n",
       "      <td>False</td>\n",
       "      <td>XRAY</td>\n",
       "      <td>1.26</td>\n",
       "      <td>0.13</td>\n",
       "      <td>0.16</td>\n",
       "    </tr>\n",
       "  </tbody>\n",
       "</table>\n",
       "</div>"
      ],
      "text/plain": [
       "  pdb_id chain_code                   seq                  sst8  \\\n",
       "0   1FV1          F  NPVVHFFKNIVTPRTPPPSQ  CCCCCBCCCCCCCCCCCCCC   \n",
       "1   1LM8          H  DLDLEMLAPYIPMDDDFQLR  CCCCCCCCCBCCSCCCEECC   \n",
       "2   1O06          A  EEDPDLKAAIQESLREAEEA  CCCHHHHHHHHHHHHHHHTC   \n",
       "3   1QOW          D  CTFTLPGGGGVCTLTSECI*  CCTTSCTTCSSTTSSTTCCC   \n",
       "4   1RDQ          I  TTYADFIASGRTGRRNAIHD  CHHHHHHTSSCSSCCCCEEC   \n",
       "\n",
       "                   sst3  len  has_nonstd_aa Exptl.  resolution  R-factor  \\\n",
       "0  CCCCCECCCCCCCCCCCCCC   20          False   XRAY        1.90      0.23   \n",
       "1  CCCCCCCCCECCCCCCEECC   20          False   XRAY        1.85      0.20   \n",
       "2  CCCHHHHHHHHHHHHHHHCC   20          False   XRAY        1.45      0.19   \n",
       "3  CCCCCCCCCCCCCCCCCCCC   20           True   XRAY        1.06      0.14   \n",
       "4  CHHHHHHCCCCCCCCCCEEC   20          False   XRAY        1.26      0.13   \n",
       "\n",
       "   FreeRvalue  \n",
       "0        0.27  \n",
       "1        0.24  \n",
       "2        0.22  \n",
       "3        1.00  \n",
       "4        0.16  "
      ]
     },
     "execution_count": 2,
     "metadata": {},
     "output_type": "execute_result"
    }
   ],
   "source": [
    "#df = pd.read_csv('2018-06-06-ss.cleaned.csv')\n",
    "df = pd.read_csv('2018-06-06-pdb-intersect-pisces.csv')\n",
    "df.head()"
   ]
  },
  {
   "cell_type": "markdown",
   "metadata": {},
   "source": [
    "***Clean dataset before training***"
   ]
  },
  {
   "cell_type": "code",
   "execution_count": 3,
   "metadata": {},
   "outputs": [
    {
     "name": "stdout",
     "output_type": "stream",
     "text": [
      "<class 'pandas.core.frame.DataFrame'>\n",
      "RangeIndex: 9078 entries, 0 to 9077\n",
      "Data columns (total 11 columns):\n",
      " #   Column         Non-Null Count  Dtype  \n",
      "---  ------         --------------  -----  \n",
      " 0   pdb_id         9078 non-null   object \n",
      " 1   chain_code     9078 non-null   object \n",
      " 2   seq            9078 non-null   object \n",
      " 3   sst8           9078 non-null   object \n",
      " 4   sst3           9078 non-null   object \n",
      " 5   len            9078 non-null   int64  \n",
      " 6   has_nonstd_aa  9078 non-null   bool   \n",
      " 7   Exptl.         9078 non-null   object \n",
      " 8   resolution     9078 non-null   float64\n",
      " 9   R-factor       9078 non-null   float64\n",
      " 10  FreeRvalue     9078 non-null   float64\n",
      "dtypes: bool(1), float64(3), int64(1), object(6)\n",
      "memory usage: 718.2+ KB\n"
     ]
    }
   ],
   "source": [
    "df.drop_duplicates() #remove duplicates if any in the dataset\n",
    "df.dropna() #drop NaN values from the dataset if any\n",
    "df.info() #analyse the columns and entries"
   ]
  },
  {
   "cell_type": "code",
   "execution_count": 4,
   "metadata": {},
   "outputs": [
    {
     "data": {
      "text/html": [
       "<div>\n",
       "<style scoped>\n",
       "    .dataframe tbody tr th:only-of-type {\n",
       "        vertical-align: middle;\n",
       "    }\n",
       "\n",
       "    .dataframe tbody tr th {\n",
       "        vertical-align: top;\n",
       "    }\n",
       "\n",
       "    .dataframe thead th {\n",
       "        text-align: right;\n",
       "    }\n",
       "</style>\n",
       "<table border=\"1\" class=\"dataframe\">\n",
       "  <thead>\n",
       "    <tr style=\"text-align: right;\">\n",
       "      <th></th>\n",
       "      <th>pdb_id</th>\n",
       "      <th>chain_code</th>\n",
       "      <th>seq</th>\n",
       "      <th>sst3</th>\n",
       "      <th>len</th>\n",
       "      <th>has_nonstd_aa</th>\n",
       "      <th>Exptl.</th>\n",
       "      <th>resolution</th>\n",
       "      <th>R-factor</th>\n",
       "      <th>FreeRvalue</th>\n",
       "    </tr>\n",
       "  </thead>\n",
       "  <tbody>\n",
       "    <tr>\n",
       "      <th>0</th>\n",
       "      <td>1FV1</td>\n",
       "      <td>F</td>\n",
       "      <td>NPVVHFFKNIVTPRTPPPSQ</td>\n",
       "      <td>CCCCCECCCCCCCCCCCCCC</td>\n",
       "      <td>20</td>\n",
       "      <td>False</td>\n",
       "      <td>XRAY</td>\n",
       "      <td>1.90</td>\n",
       "      <td>0.23</td>\n",
       "      <td>0.27</td>\n",
       "    </tr>\n",
       "    <tr>\n",
       "      <th>1</th>\n",
       "      <td>1LM8</td>\n",
       "      <td>H</td>\n",
       "      <td>DLDLEMLAPYIPMDDDFQLR</td>\n",
       "      <td>CCCCCCCCCECCCCCCEECC</td>\n",
       "      <td>20</td>\n",
       "      <td>False</td>\n",
       "      <td>XRAY</td>\n",
       "      <td>1.85</td>\n",
       "      <td>0.20</td>\n",
       "      <td>0.24</td>\n",
       "    </tr>\n",
       "    <tr>\n",
       "      <th>2</th>\n",
       "      <td>1O06</td>\n",
       "      <td>A</td>\n",
       "      <td>EEDPDLKAAIQESLREAEEA</td>\n",
       "      <td>CCCHHHHHHHHHHHHHHHCC</td>\n",
       "      <td>20</td>\n",
       "      <td>False</td>\n",
       "      <td>XRAY</td>\n",
       "      <td>1.45</td>\n",
       "      <td>0.19</td>\n",
       "      <td>0.22</td>\n",
       "    </tr>\n",
       "    <tr>\n",
       "      <th>3</th>\n",
       "      <td>1QOW</td>\n",
       "      <td>D</td>\n",
       "      <td>CTFTLPGGGGVCTLTSECI*</td>\n",
       "      <td>CCCCCCCCCCCCCCCCCCCC</td>\n",
       "      <td>20</td>\n",
       "      <td>True</td>\n",
       "      <td>XRAY</td>\n",
       "      <td>1.06</td>\n",
       "      <td>0.14</td>\n",
       "      <td>1.00</td>\n",
       "    </tr>\n",
       "    <tr>\n",
       "      <th>4</th>\n",
       "      <td>1RDQ</td>\n",
       "      <td>I</td>\n",
       "      <td>TTYADFIASGRTGRRNAIHD</td>\n",
       "      <td>CHHHHHHCCCCCCCCCCEEC</td>\n",
       "      <td>20</td>\n",
       "      <td>False</td>\n",
       "      <td>XRAY</td>\n",
       "      <td>1.26</td>\n",
       "      <td>0.13</td>\n",
       "      <td>0.16</td>\n",
       "    </tr>\n",
       "  </tbody>\n",
       "</table>\n",
       "</div>"
      ],
      "text/plain": [
       "  pdb_id chain_code                   seq                  sst3  len  \\\n",
       "0   1FV1          F  NPVVHFFKNIVTPRTPPPSQ  CCCCCECCCCCCCCCCCCCC   20   \n",
       "1   1LM8          H  DLDLEMLAPYIPMDDDFQLR  CCCCCCCCCECCCCCCEECC   20   \n",
       "2   1O06          A  EEDPDLKAAIQESLREAEEA  CCCHHHHHHHHHHHHHHHCC   20   \n",
       "3   1QOW          D  CTFTLPGGGGVCTLTSECI*  CCCCCCCCCCCCCCCCCCCC   20   \n",
       "4   1RDQ          I  TTYADFIASGRTGRRNAIHD  CHHHHHHCCCCCCCCCCEEC   20   \n",
       "\n",
       "   has_nonstd_aa Exptl.  resolution  R-factor  FreeRvalue  \n",
       "0          False   XRAY        1.90      0.23        0.27  \n",
       "1          False   XRAY        1.85      0.20        0.24  \n",
       "2          False   XRAY        1.45      0.19        0.22  \n",
       "3           True   XRAY        1.06      0.14        1.00  \n",
       "4          False   XRAY        1.26      0.13        0.16  "
      ]
     },
     "execution_count": 4,
     "metadata": {},
     "output_type": "execute_result"
    }
   ],
   "source": [
    "df = df.drop(columns=['sst8']) #Remove sst8 because we do not care about it, we only care about 'sst3' as explained in report.\n",
    "\n",
    "df.head()"
   ]
  },
  {
   "cell_type": "code",
   "execution_count": 5,
   "metadata": {},
   "outputs": [
    {
     "data": {
      "text/html": [
       "<div>\n",
       "<style scoped>\n",
       "    .dataframe tbody tr th:only-of-type {\n",
       "        vertical-align: middle;\n",
       "    }\n",
       "\n",
       "    .dataframe tbody tr th {\n",
       "        vertical-align: top;\n",
       "    }\n",
       "\n",
       "    .dataframe thead th {\n",
       "        text-align: right;\n",
       "    }\n",
       "</style>\n",
       "<table border=\"1\" class=\"dataframe\">\n",
       "  <thead>\n",
       "    <tr style=\"text-align: right;\">\n",
       "      <th></th>\n",
       "      <th>pdb_id</th>\n",
       "      <th>chain_code</th>\n",
       "      <th>seq</th>\n",
       "      <th>sst3</th>\n",
       "      <th>len</th>\n",
       "      <th>has_nonstd_aa</th>\n",
       "      <th>Exptl.</th>\n",
       "      <th>resolution</th>\n",
       "      <th>R-factor</th>\n",
       "      <th>FreeRvalue</th>\n",
       "    </tr>\n",
       "  </thead>\n",
       "  <tbody>\n",
       "    <tr>\n",
       "      <th>0</th>\n",
       "      <td>1FV1</td>\n",
       "      <td>F</td>\n",
       "      <td>NPVVHFFKNIVTPRTPPPSQ</td>\n",
       "      <td>CCCCCECCCCCCCCCCCCCC</td>\n",
       "      <td>20</td>\n",
       "      <td>False</td>\n",
       "      <td>XRAY</td>\n",
       "      <td>1.90</td>\n",
       "      <td>0.23</td>\n",
       "      <td>0.27</td>\n",
       "    </tr>\n",
       "    <tr>\n",
       "      <th>1</th>\n",
       "      <td>1LM8</td>\n",
       "      <td>H</td>\n",
       "      <td>DLDLEMLAPYIPMDDDFQLR</td>\n",
       "      <td>CCCCCCCCCECCCCCCEECC</td>\n",
       "      <td>20</td>\n",
       "      <td>False</td>\n",
       "      <td>XRAY</td>\n",
       "      <td>1.85</td>\n",
       "      <td>0.20</td>\n",
       "      <td>0.24</td>\n",
       "    </tr>\n",
       "    <tr>\n",
       "      <th>2</th>\n",
       "      <td>1O06</td>\n",
       "      <td>A</td>\n",
       "      <td>EEDPDLKAAIQESLREAEEA</td>\n",
       "      <td>CCCHHHHHHHHHHHHHHHCC</td>\n",
       "      <td>20</td>\n",
       "      <td>False</td>\n",
       "      <td>XRAY</td>\n",
       "      <td>1.45</td>\n",
       "      <td>0.19</td>\n",
       "      <td>0.22</td>\n",
       "    </tr>\n",
       "    <tr>\n",
       "      <th>3</th>\n",
       "      <td>1QOW</td>\n",
       "      <td>D</td>\n",
       "      <td>CTFTLPGGGGVCTLTSECI*</td>\n",
       "      <td>CCCCCCCCCCCCCCCCCCCC</td>\n",
       "      <td>20</td>\n",
       "      <td>True</td>\n",
       "      <td>XRAY</td>\n",
       "      <td>1.06</td>\n",
       "      <td>0.14</td>\n",
       "      <td>1.00</td>\n",
       "    </tr>\n",
       "    <tr>\n",
       "      <th>4</th>\n",
       "      <td>1RDQ</td>\n",
       "      <td>I</td>\n",
       "      <td>TTYADFIASGRTGRRNAIHD</td>\n",
       "      <td>CHHHHHHCCCCCCCCCCEEC</td>\n",
       "      <td>20</td>\n",
       "      <td>False</td>\n",
       "      <td>XRAY</td>\n",
       "      <td>1.26</td>\n",
       "      <td>0.13</td>\n",
       "      <td>0.16</td>\n",
       "    </tr>\n",
       "  </tbody>\n",
       "</table>\n",
       "</div>"
      ],
      "text/plain": [
       "  pdb_id chain_code                   seq                  sst3  len  \\\n",
       "0   1FV1          F  NPVVHFFKNIVTPRTPPPSQ  CCCCCECCCCCCCCCCCCCC   20   \n",
       "1   1LM8          H  DLDLEMLAPYIPMDDDFQLR  CCCCCCCCCECCCCCCEECC   20   \n",
       "2   1O06          A  EEDPDLKAAIQESLREAEEA  CCCHHHHHHHHHHHHHHHCC   20   \n",
       "3   1QOW          D  CTFTLPGGGGVCTLTSECI*  CCCCCCCCCCCCCCCCCCCC   20   \n",
       "4   1RDQ          I  TTYADFIASGRTGRRNAIHD  CHHHHHHCCCCCCCCCCEEC   20   \n",
       "\n",
       "   has_nonstd_aa Exptl.  resolution  R-factor  FreeRvalue  \n",
       "0          False   XRAY        1.90      0.23        0.27  \n",
       "1          False   XRAY        1.85      0.20        0.24  \n",
       "2          False   XRAY        1.45      0.19        0.22  \n",
       "3           True   XRAY        1.06      0.14        1.00  \n",
       "4          False   XRAY        1.26      0.13        0.16  "
      ]
     },
     "execution_count": 5,
     "metadata": {},
     "output_type": "execute_result"
    }
   ],
   "source": [
    "#df = df.drop(df[df.has_nonstd_aa == True].index) #Test if has_nonstd_aa had any effect on the dataset. It had very little effect on the training so we kept it.\n",
    "df.head()"
   ]
  },
  {
   "cell_type": "code",
   "execution_count": 6,
   "metadata": {},
   "outputs": [
    {
     "data": {
      "text/html": [
       "<div>\n",
       "<style scoped>\n",
       "    .dataframe tbody tr th:only-of-type {\n",
       "        vertical-align: middle;\n",
       "    }\n",
       "\n",
       "    .dataframe tbody tr th {\n",
       "        vertical-align: top;\n",
       "    }\n",
       "\n",
       "    .dataframe thead th {\n",
       "        text-align: right;\n",
       "    }\n",
       "</style>\n",
       "<table border=\"1\" class=\"dataframe\">\n",
       "  <thead>\n",
       "    <tr style=\"text-align: right;\">\n",
       "      <th></th>\n",
       "      <th>pdb_id</th>\n",
       "      <th>chain_code</th>\n",
       "      <th>seq</th>\n",
       "      <th>sst3</th>\n",
       "      <th>len</th>\n",
       "      <th>has_nonstd_aa</th>\n",
       "      <th>Exptl.</th>\n",
       "      <th>resolution</th>\n",
       "      <th>R-factor</th>\n",
       "      <th>FreeRvalue</th>\n",
       "      <th>tokens</th>\n",
       "      <th>output</th>\n",
       "    </tr>\n",
       "  </thead>\n",
       "  <tbody>\n",
       "    <tr>\n",
       "      <th>0</th>\n",
       "      <td>1FV1</td>\n",
       "      <td>F</td>\n",
       "      <td>NPVVHFFKNIVTPRTPPPSQ</td>\n",
       "      <td>CCCCCECCCCCCCCCCCCCC</td>\n",
       "      <td>20</td>\n",
       "      <td>False</td>\n",
       "      <td>XRAY</td>\n",
       "      <td>1.90</td>\n",
       "      <td>0.23</td>\n",
       "      <td>0.27</td>\n",
       "      <td>[N, P, V, V, H, F, F, K, N, I, V, T, P, R, T, ...</td>\n",
       "      <td>[C, C, C, C, C, E, C, C, C, C, C, C, C, C, C, ...</td>\n",
       "    </tr>\n",
       "    <tr>\n",
       "      <th>1</th>\n",
       "      <td>1LM8</td>\n",
       "      <td>H</td>\n",
       "      <td>DLDLEMLAPYIPMDDDFQLR</td>\n",
       "      <td>CCCCCCCCCECCCCCCEECC</td>\n",
       "      <td>20</td>\n",
       "      <td>False</td>\n",
       "      <td>XRAY</td>\n",
       "      <td>1.85</td>\n",
       "      <td>0.20</td>\n",
       "      <td>0.24</td>\n",
       "      <td>[D, L, D, L, E, M, L, A, P, Y, I, P, M, D, D, ...</td>\n",
       "      <td>[C, C, C, C, C, C, C, C, C, E, C, C, C, C, C, ...</td>\n",
       "    </tr>\n",
       "    <tr>\n",
       "      <th>2</th>\n",
       "      <td>1O06</td>\n",
       "      <td>A</td>\n",
       "      <td>EEDPDLKAAIQESLREAEEA</td>\n",
       "      <td>CCCHHHHHHHHHHHHHHHCC</td>\n",
       "      <td>20</td>\n",
       "      <td>False</td>\n",
       "      <td>XRAY</td>\n",
       "      <td>1.45</td>\n",
       "      <td>0.19</td>\n",
       "      <td>0.22</td>\n",
       "      <td>[E, E, D, P, D, L, K, A, A, I, Q, E, S, L, R, ...</td>\n",
       "      <td>[C, C, C, H, H, H, H, H, H, H, H, H, H, H, H, ...</td>\n",
       "    </tr>\n",
       "    <tr>\n",
       "      <th>3</th>\n",
       "      <td>1QOW</td>\n",
       "      <td>D</td>\n",
       "      <td>CTFTLPGGGGVCTLTSECI*</td>\n",
       "      <td>CCCCCCCCCCCCCCCCCCCC</td>\n",
       "      <td>20</td>\n",
       "      <td>True</td>\n",
       "      <td>XRAY</td>\n",
       "      <td>1.06</td>\n",
       "      <td>0.14</td>\n",
       "      <td>1.00</td>\n",
       "      <td>[C, T, F, T, L, P, G, G, G, G, V, C, T, L, T, ...</td>\n",
       "      <td>[C, C, C, C, C, C, C, C, C, C, C, C, C, C, C, ...</td>\n",
       "    </tr>\n",
       "    <tr>\n",
       "      <th>4</th>\n",
       "      <td>1RDQ</td>\n",
       "      <td>I</td>\n",
       "      <td>TTYADFIASGRTGRRNAIHD</td>\n",
       "      <td>CHHHHHHCCCCCCCCCCEEC</td>\n",
       "      <td>20</td>\n",
       "      <td>False</td>\n",
       "      <td>XRAY</td>\n",
       "      <td>1.26</td>\n",
       "      <td>0.13</td>\n",
       "      <td>0.16</td>\n",
       "      <td>[T, T, Y, A, D, F, I, A, S, G, R, T, G, R, R, ...</td>\n",
       "      <td>[C, H, H, H, H, H, H, C, C, C, C, C, C, C, C, ...</td>\n",
       "    </tr>\n",
       "  </tbody>\n",
       "</table>\n",
       "</div>"
      ],
      "text/plain": [
       "  pdb_id chain_code                   seq                  sst3  len  \\\n",
       "0   1FV1          F  NPVVHFFKNIVTPRTPPPSQ  CCCCCECCCCCCCCCCCCCC   20   \n",
       "1   1LM8          H  DLDLEMLAPYIPMDDDFQLR  CCCCCCCCCECCCCCCEECC   20   \n",
       "2   1O06          A  EEDPDLKAAIQESLREAEEA  CCCHHHHHHHHHHHHHHHCC   20   \n",
       "3   1QOW          D  CTFTLPGGGGVCTLTSECI*  CCCCCCCCCCCCCCCCCCCC   20   \n",
       "4   1RDQ          I  TTYADFIASGRTGRRNAIHD  CHHHHHHCCCCCCCCCCEEC   20   \n",
       "\n",
       "   has_nonstd_aa Exptl.  resolution  R-factor  FreeRvalue  \\\n",
       "0          False   XRAY        1.90      0.23        0.27   \n",
       "1          False   XRAY        1.85      0.20        0.24   \n",
       "2          False   XRAY        1.45      0.19        0.22   \n",
       "3           True   XRAY        1.06      0.14        1.00   \n",
       "4          False   XRAY        1.26      0.13        0.16   \n",
       "\n",
       "                                              tokens  \\\n",
       "0  [N, P, V, V, H, F, F, K, N, I, V, T, P, R, T, ...   \n",
       "1  [D, L, D, L, E, M, L, A, P, Y, I, P, M, D, D, ...   \n",
       "2  [E, E, D, P, D, L, K, A, A, I, Q, E, S, L, R, ...   \n",
       "3  [C, T, F, T, L, P, G, G, G, G, V, C, T, L, T, ...   \n",
       "4  [T, T, Y, A, D, F, I, A, S, G, R, T, G, R, R, ...   \n",
       "\n",
       "                                              output  \n",
       "0  [C, C, C, C, C, E, C, C, C, C, C, C, C, C, C, ...  \n",
       "1  [C, C, C, C, C, C, C, C, C, E, C, C, C, C, C, ...  \n",
       "2  [C, C, C, H, H, H, H, H, H, H, H, H, H, H, H, ...  \n",
       "3  [C, C, C, C, C, C, C, C, C, C, C, C, C, C, C, ...  \n",
       "4  [C, H, H, H, H, H, H, C, C, C, C, C, C, C, C, ...  "
      ]
     },
     "execution_count": 6,
     "metadata": {},
     "output_type": "execute_result"
    }
   ],
   "source": [
    "# NLP: Tokenization of the sequences\n",
    "df['tokens'] = df['seq'].apply(lambda x: list(x)) #Split invidual characters into tokens\n",
    "df['output'] = df['sst3'].apply(lambda x: list(x))\n",
    "df.head()"
   ]
  },
  {
   "cell_type": "markdown",
   "metadata": {},
   "source": [
    "***Exploratory Data Analysis***"
   ]
  },
  {
   "cell_type": "code",
   "execution_count": 7,
   "metadata": {},
   "outputs": [
    {
     "data": {
      "image/png": "[encoded data removed]",
      "text/plain": [
       "<Figure size 640x480 with 1 Axes>"
      ]
     },
     "metadata": {},
     "output_type": "display_data"
    }
   ],
   "source": [
    "#Exploratory Data Analysis\n",
    "\n",
    "\n",
    "fdist = FreqDist() #Frequency dictionary\n",
    "\n",
    "for row in df['output']:\n",
    "    for word in row:\n",
    "        fdist[word] += 1 #update counts for each of the three letters\n",
    "\n",
    "counts = fdist.most_common(3)\n",
    "\n",
    "letters = []\n",
    "numbers = []\n",
    "for index, total in counts: #split into x,y to plot \n",
    "    letters.append(index)\n",
    "    numbers.append(total)\n",
    "\n",
    "#Source: https://matplotlib.org/3.1.1/gallery/pie_and_polar_charts/pie_features.html\n",
    "plt.pie(numbers, labels = letters, autopct='%1.1f%%')\n",
    "plt.show()\n"
   ]
  },
  {
   "cell_type": "markdown",
   "metadata": {},
   "source": [
    "***The pie plot shows the percentage of the different secondary structures in the dataset. C: Random coil, H: Alpha Helix, E: Beta sheet***"
   ]
  },
  {
   "cell_type": "code",
   "execution_count": 8,
   "metadata": {},
   "outputs": [
    {
     "name": "stdout",
     "output_type": "stream",
     "text": [
      "{'F': FreqDist({'H': 31875, 'E': 28754, 'C': 27852}), 'H': FreqDist({'C': 35699, 'H': 16347, 'E': 11578}), 'I': FreqDist({'E': 47058, 'H': 44731, 'C': 29981}), 'K': FreqDist({'C': 51860, 'H': 50315, 'E': 22256}), 'N': FreqDist({'C': 55936, 'H': 25751, 'E': 13436}), 'P': FreqDist({'C': 72309, 'H': 19511, 'E': 9995}), 'Q': FreqDist({'H': 37299, 'C': 31785, 'E': 14050}), 'R': FreqDist({'H': 47317, 'C': 41850, 'E': 22993}), 'S': FreqDist({'C': 73981, 'H': 38857, 'E': 25705}), 'T': FreqDist({'C': 54784, 'H': 32582, 'E': 32379}), 'V': FreqDist({'E': 63467, 'H': 46448, 'C': 40003}), 'A': FreqDist({'H': 89140, 'C': 62292, 'E': 30635}), 'D': FreqDist({'C': 73575, 'H': 40908, 'E': 16544}), 'E': FreqDist({'H': 70250, 'C': 53890, 'E': 22786}), 'L': FreqDist({'H': 92959, 'C': 57620, 'E': 50540}), 'M': FreqDist({'H': 20142, 'C': 19896, 'E': 10727}), 'Y': FreqDist({'H': 27621, 'E': 24970, 'C': 24883}), '*': FreqDist({'C': 115, 'H': 38, 'E': 3}), 'C': FreqDist({'C': 10278, 'H': 8034, 'E': 7901}), 'G': FreqDist({'C': 110374, 'H': 27455, 'E': 23766}), 'W': FreqDist({'H': 12245, 'C': 9746, 'E': 9407})}\n"
     ]
    }
   ],
   "source": [
    "\n",
    "dict = Dictionary(df['tokens']) #create a dictionary of all the tokens\n",
    "\n",
    "freq_dist = {}\n",
    "\n",
    "for index, label in dict.items(): #loop through label by label\n",
    "\n",
    "    label_freq = FreqDist() #unique frequency distribution for each label\n",
    "\n",
    "    for input, output in zip(df['tokens'], df['output']): #source: https://www.geeksforgeeks.org/python-iterate-multiple-lists-simultaneously/\n",
    "        for i_w, o_w in zip(input, output): #input_word, output_word\n",
    "            if i_w == label: #only add corresponding output for correct label\n",
    "                label_freq[o_w] += 1\n",
    "\n",
    "    freq_dist[label] = label_freq\n",
    "\n",
    "print(freq_dist)\n",
    "\n",
    "\n"
   ]
  },
  {
   "cell_type": "code",
   "execution_count": 9,
   "metadata": {},
   "outputs": [],
   "source": [
    "#Function to retrieve pieplot for individual amino acids. Do not change.\n",
    "\n",
    "def label_freq_dist(token):\n",
    "\n",
    "    ## check if token is valid\n",
    "    if token in freq_dist:\n",
    "        token_freq = freq_dist[token] \n",
    "    else:\n",
    "        return \"Not valid token\"\n",
    "\n",
    "    indexes = []\n",
    "    values = []\n",
    "    for idx, value in token_freq.items():\n",
    "        indexes.append(idx)\n",
    "        values.append(value)\n",
    "    plt.pie(values, labels=indexes, autopct='%1.1f%%') #show pie chart\n",
    "    plt.show()\n",
    "    return token_freq.items() #return numbers for user \n",
    "\n"
   ]
  },
  {
   "cell_type": "markdown",
   "metadata": {},
   "source": [
    "***Edit the amino acids in the parameter below to show the pie plot for a chosen amino acid.***"
   ]
  },
  {
   "cell_type": "code",
   "execution_count": 10,
   "metadata": {},
   "outputs": [
    {
     "data": {
      "image/png": "[encoded data removed]",
      "text/plain": [
       "<Figure size 640x480 with 1 Axes>"
      ]
     },
     "metadata": {},
     "output_type": "display_data"
    },
    {
     "data": {
      "text/plain": [
       "dict_items([('C', 41850), ('H', 47317), ('E', 22993)])"
      ]
     },
     "execution_count": 10,
     "metadata": {},
     "output_type": "execute_result"
    }
   ],
   "source": [
    "label_freq_dist('R')"
   ]
  },
  {
   "cell_type": "markdown",
   "metadata": {},
   "source": [
    "***Padding to ensure all sequences is the similar length before sending it to the model***"
   ]
  },
  {
   "cell_type": "code",
   "execution_count": 11,
   "metadata": {},
   "outputs": [
    {
     "name": "stdout",
     "output_type": "stream",
     "text": [
      "1632\n"
     ]
    }
   ],
   "source": [
    "#Padding to get uniform length and encoding characters\n",
    "\n",
    "#Source: https://www.tensorflow.org/api_docs/python/tf/keras/preprocessing/text/Tokenizer\n",
    "\n",
    "\n",
    "tokenizer = Tokenizer(char_level=True) #Tokenizer from character to integer\n",
    "tokenizer.fit_on_texts(df['tokens']) #Train tokenizer on text/list to only tokenize amino acids in dictionary.\n",
    "\n",
    "df['tokens_int'] = tokenizer.texts_to_sequences(df['tokens']) #Convert list to encoded integers\n",
    "\n",
    "output_mapping = {'C': 1, 'H': 2, 'E': 3} #Output mapped to integers\n",
    "df['outputs_int'] = df['output'].apply(lambda x: [output_mapping[label] for label in x]) #apply the mapping to the outputs\n",
    "\n",
    "\n",
    "\n",
    "max_length = df['len'].max() #max length according to dataset\n",
    "\n",
    "\n",
    "\n",
    "#Pad input tokens by adding 0 to match the maximum length in the dataset. (5037) \n",
    "padded_tokens = pad_sequences(df['tokens_int'].to_list(), maxlen=max_length, padding='post', value=0)\n",
    "padded_outputs = pad_sequences(df['outputs_int'].to_list(), maxlen=max_length, padding='post', value=0)\n",
    "\n",
    "\n",
    "print(max_length)\n",
    "assert len(padded_tokens[0]) == max_length\n",
    "assert len(padded_outputs[0]) == max_length #ensure padding is done correctly\n",
    "\n",
    "\n"
   ]
  },
  {
   "cell_type": "markdown",
   "metadata": {},
   "source": [
    "***Segment for exporting the tokenizer, to use it in the executable file***"
   ]
  },
  {
   "cell_type": "code",
   "execution_count": 12,
   "metadata": {},
   "outputs": [
    {
     "data": {
      "text/html": [
       "<div>\n",
       "<style scoped>\n",
       "    .dataframe tbody tr th:only-of-type {\n",
       "        vertical-align: middle;\n",
       "    }\n",
       "\n",
       "    .dataframe tbody tr th {\n",
       "        vertical-align: top;\n",
       "    }\n",
       "\n",
       "    .dataframe thead th {\n",
       "        text-align: right;\n",
       "    }\n",
       "</style>\n",
       "<table border=\"1\" class=\"dataframe\">\n",
       "  <thead>\n",
       "    <tr style=\"text-align: right;\">\n",
       "      <th></th>\n",
       "      <th>pdb_id</th>\n",
       "      <th>chain_code</th>\n",
       "      <th>seq</th>\n",
       "      <th>sst3</th>\n",
       "      <th>len</th>\n",
       "      <th>has_nonstd_aa</th>\n",
       "      <th>Exptl.</th>\n",
       "      <th>resolution</th>\n",
       "      <th>R-factor</th>\n",
       "      <th>FreeRvalue</th>\n",
       "      <th>tokens</th>\n",
       "      <th>output</th>\n",
       "      <th>tokens_int</th>\n",
       "      <th>outputs_int</th>\n",
       "    </tr>\n",
       "  </thead>\n",
       "  <tbody>\n",
       "    <tr>\n",
       "      <th>0</th>\n",
       "      <td>1FV1</td>\n",
       "      <td>F</td>\n",
       "      <td>NPVVHFFKNIVTPRTPPPSQ</td>\n",
       "      <td>CCCCCECCCCCCCCCCCCCC</td>\n",
       "      <td>20</td>\n",
       "      <td>False</td>\n",
       "      <td>XRAY</td>\n",
       "      <td>1.90</td>\n",
       "      <td>0.23</td>\n",
       "      <td>0.27</td>\n",
       "      <td>[N, P, V, V, H, F, F, K, N, I, V, T, P, R, T, ...</td>\n",
       "      <td>[C, C, C, C, C, E, C, C, C, C, C, C, C, C, C, ...</td>\n",
       "      <td>[13, 12, 4, 4, 17, 14, 14, 8, 13, 9, 4, 10, 12...</td>\n",
       "      <td>[1, 1, 1, 1, 1, 3, 1, 1, 1, 1, 1, 1, 1, 1, 1, ...</td>\n",
       "    </tr>\n",
       "    <tr>\n",
       "      <th>1</th>\n",
       "      <td>1LM8</td>\n",
       "      <td>H</td>\n",
       "      <td>DLDLEMLAPYIPMDDDFQLR</td>\n",
       "      <td>CCCCCCCCCECCCCCCEECC</td>\n",
       "      <td>20</td>\n",
       "      <td>False</td>\n",
       "      <td>XRAY</td>\n",
       "      <td>1.85</td>\n",
       "      <td>0.20</td>\n",
       "      <td>0.24</td>\n",
       "      <td>[D, L, D, L, E, M, L, A, P, Y, I, P, M, D, D, ...</td>\n",
       "      <td>[C, C, C, C, C, C, C, C, C, E, C, C, C, C, C, ...</td>\n",
       "      <td>[7, 1, 7, 1, 5, 18, 1, 2, 12, 16, 9, 12, 18, 7...</td>\n",
       "      <td>[1, 1, 1, 1, 1, 1, 1, 1, 1, 3, 1, 1, 1, 1, 1, ...</td>\n",
       "    </tr>\n",
       "    <tr>\n",
       "      <th>2</th>\n",
       "      <td>1O06</td>\n",
       "      <td>A</td>\n",
       "      <td>EEDPDLKAAIQESLREAEEA</td>\n",
       "      <td>CCCHHHHHHHHHHHHHHHCC</td>\n",
       "      <td>20</td>\n",
       "      <td>False</td>\n",
       "      <td>XRAY</td>\n",
       "      <td>1.45</td>\n",
       "      <td>0.19</td>\n",
       "      <td>0.22</td>\n",
       "      <td>[E, E, D, P, D, L, K, A, A, I, Q, E, S, L, R, ...</td>\n",
       "      <td>[C, C, C, H, H, H, H, H, H, H, H, H, H, H, H, ...</td>\n",
       "      <td>[5, 5, 7, 12, 7, 1, 8, 2, 2, 9, 15, 5, 6, 1, 1...</td>\n",
       "      <td>[1, 1, 1, 2, 2, 2, 2, 2, 2, 2, 2, 2, 2, 2, 2, ...</td>\n",
       "    </tr>\n",
       "    <tr>\n",
       "      <th>3</th>\n",
       "      <td>1QOW</td>\n",
       "      <td>D</td>\n",
       "      <td>CTFTLPGGGGVCTLTSECI*</td>\n",
       "      <td>CCCCCCCCCCCCCCCCCCCC</td>\n",
       "      <td>20</td>\n",
       "      <td>True</td>\n",
       "      <td>XRAY</td>\n",
       "      <td>1.06</td>\n",
       "      <td>0.14</td>\n",
       "      <td>1.00</td>\n",
       "      <td>[C, T, F, T, L, P, G, G, G, G, V, C, T, L, T, ...</td>\n",
       "      <td>[C, C, C, C, C, C, C, C, C, C, C, C, C, C, C, ...</td>\n",
       "      <td>[20, 10, 14, 10, 1, 12, 3, 3, 3, 3, 4, 20, 10,...</td>\n",
       "      <td>[1, 1, 1, 1, 1, 1, 1, 1, 1, 1, 1, 1, 1, 1, 1, ...</td>\n",
       "    </tr>\n",
       "    <tr>\n",
       "      <th>4</th>\n",
       "      <td>1RDQ</td>\n",
       "      <td>I</td>\n",
       "      <td>TTYADFIASGRTGRRNAIHD</td>\n",
       "      <td>CHHHHHHCCCCCCCCCCEEC</td>\n",
       "      <td>20</td>\n",
       "      <td>False</td>\n",
       "      <td>XRAY</td>\n",
       "      <td>1.26</td>\n",
       "      <td>0.13</td>\n",
       "      <td>0.16</td>\n",
       "      <td>[T, T, Y, A, D, F, I, A, S, G, R, T, G, R, R, ...</td>\n",
       "      <td>[C, H, H, H, H, H, H, C, C, C, C, C, C, C, C, ...</td>\n",
       "      <td>[10, 10, 16, 2, 7, 14, 9, 2, 6, 3, 11, 10, 3, ...</td>\n",
       "      <td>[1, 2, 2, 2, 2, 2, 2, 1, 1, 1, 1, 1, 1, 1, 1, ...</td>\n",
       "    </tr>\n",
       "  </tbody>\n",
       "</table>\n",
       "</div>"
      ],
      "text/plain": [
       "  pdb_id chain_code                   seq                  sst3  len  \\\n",
       "0   1FV1          F  NPVVHFFKNIVTPRTPPPSQ  CCCCCECCCCCCCCCCCCCC   20   \n",
       "1   1LM8          H  DLDLEMLAPYIPMDDDFQLR  CCCCCCCCCECCCCCCEECC   20   \n",
       "2   1O06          A  EEDPDLKAAIQESLREAEEA  CCCHHHHHHHHHHHHHHHCC   20   \n",
       "3   1QOW          D  CTFTLPGGGGVCTLTSECI*  CCCCCCCCCCCCCCCCCCCC   20   \n",
       "4   1RDQ          I  TTYADFIASGRTGRRNAIHD  CHHHHHHCCCCCCCCCCEEC   20   \n",
       "\n",
       "   has_nonstd_aa Exptl.  resolution  R-factor  FreeRvalue  \\\n",
       "0          False   XRAY        1.90      0.23        0.27   \n",
       "1          False   XRAY        1.85      0.20        0.24   \n",
       "2          False   XRAY        1.45      0.19        0.22   \n",
       "3           True   XRAY        1.06      0.14        1.00   \n",
       "4          False   XRAY        1.26      0.13        0.16   \n",
       "\n",
       "                                              tokens  \\\n",
       "0  [N, P, V, V, H, F, F, K, N, I, V, T, P, R, T, ...   \n",
       "1  [D, L, D, L, E, M, L, A, P, Y, I, P, M, D, D, ...   \n",
       "2  [E, E, D, P, D, L, K, A, A, I, Q, E, S, L, R, ...   \n",
       "3  [C, T, F, T, L, P, G, G, G, G, V, C, T, L, T, ...   \n",
       "4  [T, T, Y, A, D, F, I, A, S, G, R, T, G, R, R, ...   \n",
       "\n",
       "                                              output  \\\n",
       "0  [C, C, C, C, C, E, C, C, C, C, C, C, C, C, C, ...   \n",
       "1  [C, C, C, C, C, C, C, C, C, E, C, C, C, C, C, ...   \n",
       "2  [C, C, C, H, H, H, H, H, H, H, H, H, H, H, H, ...   \n",
       "3  [C, C, C, C, C, C, C, C, C, C, C, C, C, C, C, ...   \n",
       "4  [C, H, H, H, H, H, H, C, C, C, C, C, C, C, C, ...   \n",
       "\n",
       "                                          tokens_int  \\\n",
       "0  [13, 12, 4, 4, 17, 14, 14, 8, 13, 9, 4, 10, 12...   \n",
       "1  [7, 1, 7, 1, 5, 18, 1, 2, 12, 16, 9, 12, 18, 7...   \n",
       "2  [5, 5, 7, 12, 7, 1, 8, 2, 2, 9, 15, 5, 6, 1, 1...   \n",
       "3  [20, 10, 14, 10, 1, 12, 3, 3, 3, 3, 4, 20, 10,...   \n",
       "4  [10, 10, 16, 2, 7, 14, 9, 2, 6, 3, 11, 10, 3, ...   \n",
       "\n",
       "                                         outputs_int  \n",
       "0  [1, 1, 1, 1, 1, 3, 1, 1, 1, 1, 1, 1, 1, 1, 1, ...  \n",
       "1  [1, 1, 1, 1, 1, 1, 1, 1, 1, 3, 1, 1, 1, 1, 1, ...  \n",
       "2  [1, 1, 1, 2, 2, 2, 2, 2, 2, 2, 2, 2, 2, 2, 2, ...  \n",
       "3  [1, 1, 1, 1, 1, 1, 1, 1, 1, 1, 1, 1, 1, 1, 1, ...  \n",
       "4  [1, 2, 2, 2, 2, 2, 2, 1, 1, 1, 1, 1, 1, 1, 1, ...  "
      ]
     },
     "execution_count": 12,
     "metadata": {},
     "output_type": "execute_result"
    }
   ],
   "source": [
    "import pickle\n",
    "\n",
    "df.head()\n",
    "\n",
    "# saving\n",
    "# with open('tokenizer.pickle', 'wb') as handle:\n",
    "#     pickle.dump(tokenizer, handle, protocol=pickle.HIGHEST_PROTOCOL)"
   ]
  },
  {
   "cell_type": "markdown",
   "metadata": {},
   "source": [
    "***Segment for creating the model, before training. It is commented out as it is not advisable to do the training unless you PC has a graphics card like NVIDIA RTX 3080. The training takes approx. 6 hours.***\n",
    "***The model we trained is imported further down, and can be used***"
   ]
  },
  {
   "cell_type": "code",
   "execution_count": 15,
   "metadata": {},
   "outputs": [],
   "source": [
    "\n",
    "# print(tf.version.VERSION)\n",
    "\n",
    "# #Very simple LSTM model\n",
    "\n",
    "\n",
    "# model = Sequential()\n",
    "# model.add(Embedding(input_dim=len(freq_dist)+1, output_dim=64, mask_zero = True))\n",
    "# model.add(Bidirectional(GRU(units=200, return_sequences=True)))\n",
    "# model.add(Dropout(0.75, noise_shape=None, seed=None))\n",
    "# model.add(Bidirectional(GRU(units=200, return_sequences=True)))\n",
    "# # model.add(Dropout(0.2, noise_shape=None, seed=None))\n",
    "# # model.add(Bidirectional(GRU(units=50, return_sequences=True)))\n",
    "# # model.add(Dropout(0.2, noise_shape=None, seed=None))\n",
    "# #model.add(Bidirectional(GRU(units=20, return_sequences=True)))\n",
    "# model.add(TimeDistributed(Dense(4, activation='softmax')))\n",
    "\n",
    "# stop_callback = EarlyStopping(\n",
    "#     monitor=\"val_loss\",\n",
    "#     min_delta=0.001,\n",
    "#     patience=2,\n",
    "# )\n",
    "\n",
    "\n",
    "# model.compile(optimizer='adam', loss='sparse_categorical_crossentropy', metrics=[\"accuracy\"])\n"
   ]
  },
  {
   "cell_type": "markdown",
   "metadata": {},
   "source": [
    "***Split data into training and test data set, the function is imported from scikit-learn and randomly shuffles data data into a data set and a test set, to both train and do validation on.***"
   ]
  },
  {
   "cell_type": "code",
   "execution_count": 13,
   "metadata": {},
   "outputs": [],
   "source": [
    "#Split data into Train and Test split:\n",
    "\n",
    "X_train, X_test, y_train, y_test = train_test_split(padded_tokens, padded_outputs, test_size=0.25, random_state=42)\n",
    "\n"
   ]
  },
  {
   "cell_type": "code",
   "execution_count": 19,
   "metadata": {},
   "outputs": [],
   "source": [
    "\n",
    "#print(len(X_train))\n",
    "#print(len(X_test))"
   ]
  },
  {
   "cell_type": "markdown",
   "metadata": {},
   "source": [
    "***Segment for training the dataset, It is commented out as it is not advisable to do the training unless you PC has a graphics card like NVIDIA RTX 3080. The training takes approx. 6 hours.***"
   ]
  },
  {
   "cell_type": "code",
   "execution_count": null,
   "metadata": {},
   "outputs": [
    {
     "name": "stdout",
     "output_type": "stream",
     "text": [
      "Epoch 1/40\n"
     ]
    }
   ],
   "source": [
    "# train_model = model.fit(X_train, y_train, batch_size=None, epochs=40, callbacks=stop_callback, validation_data=(X_test, y_test))"
   ]
  },
  {
   "cell_type": "markdown",
   "metadata": {},
   "source": [
    "***The tests performance, can only be ran if the data is trained. Our model gave us an accuracy of 0.84 on the test data set of unseen data.***"
   ]
  },
  {
   "cell_type": "code",
   "execution_count": null,
   "metadata": {},
   "outputs": [
    {
     "name": "stdout",
     "output_type": "stream",
     "text": [
      "3077/3077 [==============================] - 276s 90ms/step - loss: 0.0201 - accuracy: 0.8401\n",
      "test loss, test acc: [0.020141690969467163, 0.8400591015815735]\n"
     ]
    }
   ],
   "source": [
    "# results = model.evaluate(X_test, y_test, batch_size=None)\n",
    "# print(\"test loss, test acc:\", results)"
   ]
  },
  {
   "cell_type": "markdown",
   "metadata": {},
   "source": [
    "***Import the model we trained:***"
   ]
  },
  {
   "cell_type": "code",
   "execution_count": 14,
   "metadata": {},
   "outputs": [],
   "source": [
    "loaded_model = tf.keras.models.load_model('trained_model.keras')"
   ]
  },
  {
   "cell_type": "markdown",
   "metadata": {},
   "source": [
    "***Evaluation of the loaded model:***"
   ]
  },
  {
   "cell_type": "code",
   "execution_count": 15,
   "metadata": {},
   "outputs": [],
   "source": [
    "results = loaded_model.evaluate(X_test, y_test, batch_size=None)\n",
    "print(\"test loss, test acc:\", results)"
   ]
  },
  {
   "cell_type": "markdown",
   "metadata": {},
   "source": [
    "***Functions to display the prediction. Includes removal of padding, decoding and visual coloring of the correct/missed predictions made.***"
   ]
  },
  {
   "cell_type": "code",
   "execution_count": 16,
   "metadata": {},
   "outputs": [],
   "source": [
    "def remove_padding(prediction, answer):\n",
    "\n",
    "    answer_indexes =  np.where(answer != 0)\n",
    "\n",
    "    pred = prediction[answer_indexes]\n",
    "    ans = answer[answer_indexes]\n",
    "\n",
    "    assert len(pred) == len(ans)\n",
    "\n",
    "    return pred, ans "
   ]
  },
  {
   "cell_type": "code",
   "execution_count": 17,
   "metadata": {},
   "outputs": [],
   "source": [
    "def decode_prediction(pred, ans):\n",
    "    \n",
    "    reversed_mapping = {1: 'C', 2: 'H', 3: 'E'}\n",
    "    \n",
    "    decode_pred = [reversed_mapping[label] for label in pred]\n",
    "    decode_ans = [reversed_mapping[label] for label in ans]\n",
    "    \n",
    "    return decode_pred, decode_ans"
   ]
  },
  {
   "cell_type": "code",
   "execution_count": 19,
   "metadata": {},
   "outputs": [],
   "source": [
    "#DISCLAIMER: The color_compare and color_true_answer functions is partly generated from ChatGPT: https://chat.openai.com/\n",
    "#The code is only used for easier visibility when comparing predictions with the answer and has no effect on the prediction or performance of the model.\n",
    "#The code uses ANSI escape code to change the visible text color.\n",
    "def color_compare(pred, ans):\n",
    "    correct = 0\n",
    "    print(\"Prediction: \")\n",
    "    for a, b in zip(pred, ans):\n",
    "        if a == b:\n",
    "            print(f\"\\033[92m{a}\\033[0m\", end=' ')  # Green for match\n",
    "            correct += 1\n",
    "        else:\n",
    "            print(f\"\\033[91m{a}\\033[0m\", end=' ')  # Red for mismatch\n",
    "    print()\n",
    "    return correct/len(ans)  # Return \n",
    "\n",
    "def color_true_answer(pred, ans):\n",
    "    count = 0\n",
    "    print(\"True answer: \")\n",
    "    for a, b in zip(pred, ans):\n",
    "        if a != b:\n",
    "            print(f\"\\033[91m{b}\\033[0m\", end=' ')  # Red for mismatch\n",
    "            count += 1\n",
    "        else:\n",
    "            print(f\"{b}\", end=' ')  # Default color for match\n",
    "    print()  # Newline at the end\n",
    "    return count"
   ]
  },
  {
   "cell_type": "markdown",
   "metadata": {},
   "source": [
    "***Predictions made on the dataset: y_test and X_test needs to have similar indexes.***"
   ]
  },
  {
   "cell_type": "markdown",
   "metadata": {},
   "source": [
    "***Including classification report with precision, f1-score and recall for all the different classes***"
   ]
  },
  {
   "cell_type": "code",
   "execution_count": 20,
   "metadata": {},
   "outputs": [
    {
     "name": "stdout",
     "output_type": "stream",
     "text": [
      "Prediction: \n",
      "\u001b[92mC\u001b[0m \u001b[92mC\u001b[0m \u001b[92mH\u001b[0m \u001b[92mH\u001b[0m \u001b[92mH\u001b[0m \u001b[92mH\u001b[0m \u001b[92mH\u001b[0m \u001b[92mH\u001b[0m \u001b[92mH\u001b[0m \u001b[92mH\u001b[0m \u001b[92mH\u001b[0m \u001b[92mH\u001b[0m \u001b[92mH\u001b[0m \u001b[92mH\u001b[0m \u001b[91mC\u001b[0m \u001b[92mC\u001b[0m \u001b[92mC\u001b[0m \u001b[92mC\u001b[0m \u001b[91mC\u001b[0m \u001b[91mC\u001b[0m \u001b[91mC\u001b[0m \u001b[92mE\u001b[0m \u001b[92mE\u001b[0m \u001b[92mE\u001b[0m \u001b[92mE\u001b[0m \u001b[91mC\u001b[0m \u001b[91mC\u001b[0m \u001b[91mC\u001b[0m \u001b[91mC\u001b[0m \u001b[91mC\u001b[0m \u001b[91mC\u001b[0m \u001b[91mC\u001b[0m \u001b[92mC\u001b[0m \u001b[92mH\u001b[0m \u001b[92mH\u001b[0m \u001b[92mH\u001b[0m \u001b[92mH\u001b[0m \u001b[92mH\u001b[0m \u001b[92mH\u001b[0m \u001b[92mH\u001b[0m \u001b[91mH\u001b[0m \u001b[91mH\u001b[0m \u001b[91mH\u001b[0m \u001b[91mH\u001b[0m \u001b[91mH\u001b[0m \u001b[91mC\u001b[0m \u001b[91mH\u001b[0m \u001b[91mC\u001b[0m \u001b[91mC\u001b[0m \u001b[91mC\u001b[0m \u001b[91mC\u001b[0m \u001b[92mC\u001b[0m \u001b[92mC\u001b[0m \u001b[92mC\u001b[0m \u001b[92mC\u001b[0m \u001b[92mE\u001b[0m \u001b[92mE\u001b[0m \u001b[92mE\u001b[0m \u001b[92mE\u001b[0m \u001b[92mE\u001b[0m \u001b[92mE\u001b[0m \u001b[92mE\u001b[0m \u001b[92mE\u001b[0m \u001b[92mE\u001b[0m \u001b[91mC\u001b[0m \u001b[92mC\u001b[0m \u001b[92mC\u001b[0m \u001b[91mC\u001b[0m \u001b[92mE\u001b[0m \u001b[92mE\u001b[0m \u001b[92mE\u001b[0m \u001b[92mE\u001b[0m \u001b[92mE\u001b[0m \u001b[92mE\u001b[0m \u001b[92mE\u001b[0m \u001b[92mE\u001b[0m \u001b[92mE\u001b[0m \u001b[91mC\u001b[0m \u001b[91mC\u001b[0m \u001b[92mC\u001b[0m \u001b[92mC\u001b[0m \u001b[91mC\u001b[0m \u001b[92mE\u001b[0m \u001b[92mE\u001b[0m \u001b[92mE\u001b[0m \u001b[92mE\u001b[0m \u001b[92mE\u001b[0m \u001b[92mE\u001b[0m \u001b[92mE\u001b[0m \u001b[92mE\u001b[0m \u001b[92mE\u001b[0m \u001b[91mH\u001b[0m \u001b[91mC\u001b[0m \u001b[91mC\u001b[0m \u001b[92mC\u001b[0m \u001b[92mC\u001b[0m \u001b[92mC\u001b[0m \u001b[92mC\u001b[0m \u001b[92mC\u001b[0m \u001b[92mC\u001b[0m \u001b[92mC\u001b[0m \u001b[92mC\u001b[0m \u001b[92mC\u001b[0m \u001b[92mC\u001b[0m \n",
      "True answer: \n",
      "C C H H H H H H H H H H H H \u001b[91mH\u001b[0m C C C \u001b[91mE\u001b[0m \u001b[91mE\u001b[0m \u001b[91mE\u001b[0m E E E E \u001b[91mE\u001b[0m \u001b[91mE\u001b[0m \u001b[91mE\u001b[0m \u001b[91mE\u001b[0m \u001b[91mE\u001b[0m \u001b[91mE\u001b[0m \u001b[91mE\u001b[0m C H H H H H H H \u001b[91mC\u001b[0m \u001b[91mC\u001b[0m \u001b[91mC\u001b[0m \u001b[91mC\u001b[0m \u001b[91mE\u001b[0m \u001b[91mE\u001b[0m \u001b[91mE\u001b[0m \u001b[91mE\u001b[0m \u001b[91mE\u001b[0m \u001b[91mE\u001b[0m \u001b[91mE\u001b[0m C C C C E E E E E E E E E \u001b[91mE\u001b[0m C C \u001b[91mE\u001b[0m E E E E E E E E E \u001b[91mE\u001b[0m \u001b[91mE\u001b[0m C C \u001b[91mE\u001b[0m E E E E E E E E E \u001b[91mE\u001b[0m \u001b[91mE\u001b[0m \u001b[91mE\u001b[0m C C C C C C C C C C \n",
      "The accuracy is: 0.7115384615384616\n",
      "The total number of mismatches is: 30 out of 104\n",
      "\n"
     ]
    }
   ],
   "source": [
    "from sklearn.metrics import classification_report\n",
    "\n",
    "#Because classification report and confusion matrix does not support multi-class multi-output we need to use an alternate way\n",
    "#Creates two empty lists to collect data about every single prediction made\n",
    "all_predictions = []\n",
    "all_answer = []\n",
    "\n",
    "prediction_input = X_test\n",
    "prediction_answers = y_test\n",
    "\n",
    "prediction = loaded_model.predict(prediction_input)  \n",
    "prediction = np.argmax(prediction, axis=-1)\n",
    "\n",
    "for x, y in zip(prediction, prediction_answers):\n",
    "    pred, ans = remove_padding(x, y)\n",
    "    pred, ans = decode_prediction(pred, ans)\n",
    "\n",
    "    all_predictions.extend(pred)\n",
    "    all_answer.extend(ans)\n",
    "\n",
    "    accuracy = color_compare(pred, ans)\n",
    "    mismatches = color_true_answer(pred, ans)\n",
    "\n",
    "    print(\"The accuracy is:\", accuracy)\n",
    "    print(\"The total number of mismatches is:\", mismatches, \"out of\", len(ans))\n",
    "    print() #Newline\n",
    "\n"
   ]
  },
  {
   "cell_type": "markdown",
   "metadata": {},
   "source": [
    "***Classification report and confusion matrix***"
   ]
  },
  {
   "cell_type": "code",
   "execution_count": 21,
   "metadata": {},
   "outputs": [
    {
     "name": "stdout",
     "output_type": "stream",
     "text": [
      "Classification report: \n",
      "              precision    recall  f1-score   support\n",
      "\n",
      "           C       0.51      0.86      0.64        28\n",
      "           E       1.00      0.55      0.71        56\n",
      "           H       0.73      0.95      0.83        20\n",
      "\n",
      "    accuracy                           0.71       104\n",
      "   macro avg       0.75      0.79      0.73       104\n",
      "weighted avg       0.82      0.71      0.71       104\n",
      "\n"
     ]
    }
   ],
   "source": [
    "print(\"Classification report: \")\n",
    "print(classification_report(all_answer, all_predictions))"
   ]
  },
  {
   "cell_type": "code",
   "execution_count": 51,
   "metadata": {},
   "outputs": [
    {
     "data": {
      "image/png": "[encoded data removed]",
      "text/plain": [
       "<Figure size 1000x600 with 2 Axes>"
      ]
     },
     "metadata": {},
     "output_type": "display_data"
    },
    {
     "data": {
      "image/png": "[encoded data removed]",
      "text/plain": [
       "<Figure size 1000x600 with 2 Axes>"
      ]
     },
     "metadata": {},
     "output_type": "display_data"
    },
    {
     "data": {
      "image/png": "[encoded data removed]",
      "text/plain": [
       "<Figure size 1000x600 with 2 Axes>"
      ]
     },
     "metadata": {},
     "output_type": "display_data"
    }
   ],
   "source": [
    "import seaborn as sns\n",
    "from sklearn.metrics import multilabel_confusion_matrix\n",
    "\n",
    "matrixes = multilabel_confusion_matrix(all_answer, all_predictions) #one confusion matrix for each of C, E, H\n",
    "\n",
    "class_labels = ['C', 'E', 'H']\n",
    "for i, matrix in enumerate(matrixes):\n",
    "    percentage_dist = (matrix / matrix.sum())*100 #Creates a distribution of the percentages of counts in the different labels.\n",
    "    labels = [[f\"True Neg\\n{percentage_dist[0,0]:.2f}%\", f'False Pos\\n{percentage_dist[0,1]:.2f}%'], [f'False Neg\\n{percentage_dist[1,0]:.2f}%', f'True Pos\\n{percentage_dist[1,1]:.2f}%']]\n",
    "    plt.figure(figsize=(10, 6))\n",
    "    sns.heatmap(matrix, annot=labels, fmt='', cmap='Blues')\n",
    "    plt.title(f\"Confusion matrix for: {class_labels[i]}\")\n",
    "    plt.xlabel(\"Predicted\")\n",
    "    plt.ylabel(\"Answer\")\n",
    "    plt.show()\n"
   ]
  },
  {
   "cell_type": "markdown",
   "metadata": {},
   "source": [
    "***Everything below is how to preprocess the data in order to use this model to make predictions on other datasets.***"
   ]
  },
  {
   "cell_type": "code",
   "execution_count": null,
   "metadata": {},
   "outputs": [
    {
     "data": {
      "text/html": [
       "<div>\n",
       "<style scoped>\n",
       "    .dataframe tbody tr th:only-of-type {\n",
       "        vertical-align: middle;\n",
       "    }\n",
       "\n",
       "    .dataframe tbody tr th {\n",
       "        vertical-align: top;\n",
       "    }\n",
       "\n",
       "    .dataframe thead th {\n",
       "        text-align: right;\n",
       "    }\n",
       "</style>\n",
       "<table border=\"1\" class=\"dataframe\">\n",
       "  <thead>\n",
       "    <tr style=\"text-align: right;\">\n",
       "      <th></th>\n",
       "      <th>pdb_id</th>\n",
       "      <th>chain_code</th>\n",
       "      <th>seq</th>\n",
       "      <th>sst8</th>\n",
       "      <th>sst3</th>\n",
       "      <th>len</th>\n",
       "      <th>has_nonstd_aa</th>\n",
       "      <th>Exptl.</th>\n",
       "      <th>resolution</th>\n",
       "      <th>R-factor</th>\n",
       "      <th>FreeRvalue</th>\n",
       "    </tr>\n",
       "  </thead>\n",
       "  <tbody>\n",
       "    <tr>\n",
       "      <th>0</th>\n",
       "      <td>NaN</td>\n",
       "      <td>NaN</td>\n",
       "      <td>ENLKLGFLVKQPEEPWFQTEWKFADKAGKDLGFEVIKIAVPDGEKT...</td>\n",
       "      <td>NaN</td>\n",
       "      <td>CCCCCCEEECCCCCCCHHHHHHHHHHHHHHCCCCCCEEECCCHHHH...</td>\n",
       "      <td>306</td>\n",
       "      <td>NaN</td>\n",
       "      <td>NaN</td>\n",
       "      <td>NaN</td>\n",
       "      <td>NaN</td>\n",
       "      <td>NaN</td>\n",
       "    </tr>\n",
       "    <tr>\n",
       "      <th>1</th>\n",
       "      <td>NaN</td>\n",
       "      <td>NaN</td>\n",
       "      <td>APAFSVSPASGASDGQSVSVSVAAAGETYYIAQCAPVGGQDACNPA...</td>\n",
       "      <td>NaN</td>\n",
       "      <td>CCEEEEECCCCCCCCCEEEEEEECCCCEEEEEEECEECCEECCCCC...</td>\n",
       "      <td>108</td>\n",
       "      <td>NaN</td>\n",
       "      <td>NaN</td>\n",
       "      <td>NaN</td>\n",
       "      <td>NaN</td>\n",
       "      <td>NaN</td>\n",
       "    </tr>\n",
       "    <tr>\n",
       "      <th>2</th>\n",
       "      <td>NaN</td>\n",
       "      <td>NaN</td>\n",
       "      <td>GFPIPDPYCWDISFRTFYTIVDDEHKTLFNGILLLSQADNADHLNE...</td>\n",
       "      <td>NaN</td>\n",
       "      <td>CCCCCCCCCCCCCCCCCCHHHHHHHHHHHHHHHHHHHCCCHHHHHH...</td>\n",
       "      <td>113</td>\n",
       "      <td>NaN</td>\n",
       "      <td>NaN</td>\n",
       "      <td>NaN</td>\n",
       "      <td>NaN</td>\n",
       "      <td>NaN</td>\n",
       "    </tr>\n",
       "    <tr>\n",
       "      <th>3</th>\n",
       "      <td>NaN</td>\n",
       "      <td>NaN</td>\n",
       "      <td>RDFTPPTVKILQSSCDGGGHFPPTIQLLCLVSGYTPGTINITWLED...</td>\n",
       "      <td>NaN</td>\n",
       "      <td>CCCCCCEEEEECCCCCCCCCCCCEEEEEEEEEEECCCCCEEEEECC...</td>\n",
       "      <td>322</td>\n",
       "      <td>NaN</td>\n",
       "      <td>NaN</td>\n",
       "      <td>NaN</td>\n",
       "      <td>NaN</td>\n",
       "      <td>NaN</td>\n",
       "    </tr>\n",
       "    <tr>\n",
       "      <th>4</th>\n",
       "      <td>NaN</td>\n",
       "      <td>NaN</td>\n",
       "      <td>RICFNQHSSQPQTTKTCSPGESSCYHKQWSDFRGTIIERGCGCPTV...</td>\n",
       "      <td>NaN</td>\n",
       "      <td>CEEECCCCCCCCCEEECCCCCCCEEEEEEEECCEEEEEEEECCCCC...</td>\n",
       "      <td>62</td>\n",
       "      <td>NaN</td>\n",
       "      <td>NaN</td>\n",
       "      <td>NaN</td>\n",
       "      <td>NaN</td>\n",
       "      <td>NaN</td>\n",
       "    </tr>\n",
       "  </tbody>\n",
       "</table>\n",
       "</div>"
      ],
      "text/plain": [
       "   pdb_id  chain_code                                                seq  \\\n",
       "0     NaN         NaN  ENLKLGFLVKQPEEPWFQTEWKFADKAGKDLGFEVIKIAVPDGEKT...   \n",
       "1     NaN         NaN  APAFSVSPASGASDGQSVSVSVAAAGETYYIAQCAPVGGQDACNPA...   \n",
       "2     NaN         NaN  GFPIPDPYCWDISFRTFYTIVDDEHKTLFNGILLLSQADNADHLNE...   \n",
       "3     NaN         NaN  RDFTPPTVKILQSSCDGGGHFPPTIQLLCLVSGYTPGTINITWLED...   \n",
       "4     NaN         NaN  RICFNQHSSQPQTTKTCSPGESSCYHKQWSDFRGTIIERGCGCPTV...   \n",
       "\n",
       "   sst8                                               sst3  len  \\\n",
       "0   NaN  CCCCCCEEECCCCCCCHHHHHHHHHHHHHHCCCCCCEEECCCHHHH...  306   \n",
       "1   NaN  CCEEEEECCCCCCCCCEEEEEEECCCCEEEEEEECEECCEECCCCC...  108   \n",
       "2   NaN  CCCCCCCCCCCCCCCCCCHHHHHHHHHHHHHHHHHHHCCCHHHHHH...  113   \n",
       "3   NaN  CCCCCCEEEEECCCCCCCCCCCCEEEEEEEEEEECCCCCEEEEECC...  322   \n",
       "4   NaN  CEEECCCCCCCCCEEECCCCCCCEEEEEEEECCEEEEEEEECCCCC...   62   \n",
       "\n",
       "   has_nonstd_aa  Exptl.  resolution  R-factor  FreeRvalue  \n",
       "0            NaN     NaN         NaN       NaN         NaN  \n",
       "1            NaN     NaN         NaN       NaN         NaN  \n",
       "2            NaN     NaN         NaN       NaN         NaN  \n",
       "3            NaN     NaN         NaN       NaN         NaN  \n",
       "4            NaN     NaN         NaN       NaN         NaN  "
      ]
     },
     "execution_count": 103,
     "metadata": {},
     "output_type": "execute_result"
    }
   ],
   "source": [
    "# df_test = pd.read_csv('protein-secondary-structure.test.csv')\n",
    "# df_test.head()"
   ]
  },
  {
   "cell_type": "code",
   "execution_count": null,
   "metadata": {},
   "outputs": [
    {
     "name": "stdout",
     "output_type": "stream",
     "text": [
      "<class 'pandas.core.frame.DataFrame'>\n",
      "RangeIndex: 15 entries, 0 to 14\n",
      "Data columns (total 11 columns):\n",
      " #   Column         Non-Null Count  Dtype  \n",
      "---  ------         --------------  -----  \n",
      " 0   pdb_id         0 non-null      float64\n",
      " 1   chain_code     0 non-null      float64\n",
      " 2   seq            15 non-null     object \n",
      " 3   sst8           0 non-null      float64\n",
      " 4   sst3           15 non-null     object \n",
      " 5   len            15 non-null     int64  \n",
      " 6   has_nonstd_aa  0 non-null      float64\n",
      " 7   Exptl.         0 non-null      float64\n",
      " 8   resolution     0 non-null      float64\n",
      " 9   R-factor       0 non-null      float64\n",
      " 10  FreeRvalue     0 non-null      float64\n",
      "dtypes: float64(8), int64(1), object(2)\n",
      "memory usage: 1.4+ KB\n"
     ]
    }
   ],
   "source": [
    "# df_test.drop_duplicates() #remove duplicates if any in the dataset\n",
    "# df_test.dropna() #drop NaN values from the dataset if any\n",
    "# df_test.info() #analyse the columns and entries"
   ]
  },
  {
   "cell_type": "code",
   "execution_count": null,
   "metadata": {},
   "outputs": [
    {
     "data": {
      "text/html": [
       "<div>\n",
       "<style scoped>\n",
       "    .dataframe tbody tr th:only-of-type {\n",
       "        vertical-align: middle;\n",
       "    }\n",
       "\n",
       "    .dataframe tbody tr th {\n",
       "        vertical-align: top;\n",
       "    }\n",
       "\n",
       "    .dataframe thead th {\n",
       "        text-align: right;\n",
       "    }\n",
       "</style>\n",
       "<table border=\"1\" class=\"dataframe\">\n",
       "  <thead>\n",
       "    <tr style=\"text-align: right;\">\n",
       "      <th></th>\n",
       "      <th>pdb_id</th>\n",
       "      <th>chain_code</th>\n",
       "      <th>seq</th>\n",
       "      <th>sst3</th>\n",
       "      <th>len</th>\n",
       "      <th>tokens</th>\n",
       "      <th>output</th>\n",
       "      <th>tokens_int</th>\n",
       "      <th>outputs_int</th>\n",
       "    </tr>\n",
       "  </thead>\n",
       "  <tbody>\n",
       "    <tr>\n",
       "      <th>0</th>\n",
       "      <td>NaN</td>\n",
       "      <td>NaN</td>\n",
       "      <td>ENLKLGFLVKQPEEPWFQTEWKFADKAGKDLGFEVIKIAVPDGEKT...</td>\n",
       "      <td>CCCCCCEEECCCCCCCHHHHHHHHHHHHHHCCCCCCEEECCCHHHH...</td>\n",
       "      <td>306</td>\n",
       "      <td>[E, N, L, K, L, G, F, L, V, K, Q, P, E, E, P, ...</td>\n",
       "      <td>[C, C, C, C, C, C, E, E, E, C, C, C, C, C, C, ...</td>\n",
       "      <td>[5, 13, 1, 7, 1, 3, 14, 1, 4, 7, 15, 12, 5, 5,...</td>\n",
       "      <td>[1, 1, 1, 1, 1, 1, 3, 3, 3, 1, 1, 1, 1, 1, 1, ...</td>\n",
       "    </tr>\n",
       "    <tr>\n",
       "      <th>1</th>\n",
       "      <td>NaN</td>\n",
       "      <td>NaN</td>\n",
       "      <td>APAFSVSPASGASDGQSVSVSVAAAGETYYIAQCAPVGGQDACNPA...</td>\n",
       "      <td>CCEEEEECCCCCCCCCEEEEEEECCCCEEEEEEECEECCEECCCCC...</td>\n",
       "      <td>108</td>\n",
       "      <td>[A, P, A, F, S, V, S, P, A, S, G, A, S, D, G, ...</td>\n",
       "      <td>[C, C, E, E, E, E, E, C, C, C, C, C, C, C, C, ...</td>\n",
       "      <td>[2, 12, 2, 14, 6, 4, 6, 12, 2, 6, 3, 2, 6, 8, ...</td>\n",
       "      <td>[1, 1, 3, 3, 3, 3, 3, 1, 1, 1, 1, 1, 1, 1, 1, ...</td>\n",
       "    </tr>\n",
       "    <tr>\n",
       "      <th>2</th>\n",
       "      <td>NaN</td>\n",
       "      <td>NaN</td>\n",
       "      <td>GFPIPDPYCWDISFRTFYTIVDDEHKTLFNGILLLSQADNADHLNE...</td>\n",
       "      <td>CCCCCCCCCCCCCCCCCCHHHHHHHHHHHHHHHHHHHCCCHHHHHH...</td>\n",
       "      <td>113</td>\n",
       "      <td>[G, F, P, I, P, D, P, Y, C, W, D, I, S, F, R, ...</td>\n",
       "      <td>[C, C, C, C, C, C, C, C, C, C, C, C, C, C, C, ...</td>\n",
       "      <td>[3, 14, 12, 9, 12, 8, 12, 16, 19, 20, 8, 9, 6,...</td>\n",
       "      <td>[1, 1, 1, 1, 1, 1, 1, 1, 1, 1, 1, 1, 1, 1, 1, ...</td>\n",
       "    </tr>\n",
       "    <tr>\n",
       "      <th>3</th>\n",
       "      <td>NaN</td>\n",
       "      <td>NaN</td>\n",
       "      <td>RDFTPPTVKILQSSCDGGGHFPPTIQLLCLVSGYTPGTINITWLED...</td>\n",
       "      <td>CCCCCCEEEEECCCCCCCCCCCCEEEEEEEEEEECCCCCEEEEECC...</td>\n",
       "      <td>322</td>\n",
       "      <td>[R, D, F, T, P, P, T, V, K, I, L, Q, S, S, C, ...</td>\n",
       "      <td>[C, C, C, C, C, C, E, E, E, E, E, C, C, C, C, ...</td>\n",
       "      <td>[11, 8, 14, 10, 12, 12, 10, 4, 7, 9, 1, 15, 6,...</td>\n",
       "      <td>[1, 1, 1, 1, 1, 1, 3, 3, 3, 3, 3, 1, 1, 1, 1, ...</td>\n",
       "    </tr>\n",
       "    <tr>\n",
       "      <th>4</th>\n",
       "      <td>NaN</td>\n",
       "      <td>NaN</td>\n",
       "      <td>RICFNQHSSQPQTTKTCSPGESSCYHKQWSDFRGTIIERGCGCPTV...</td>\n",
       "      <td>CEEECCCCCCCCCEEECCCCCCCEEEEEEEECCEEEEEEEECCCCC...</td>\n",
       "      <td>62</td>\n",
       "      <td>[R, I, C, F, N, Q, H, S, S, Q, P, Q, T, T, K, ...</td>\n",
       "      <td>[C, E, E, E, C, C, C, C, C, C, C, C, C, E, E, ...</td>\n",
       "      <td>[11, 9, 19, 14, 13, 15, 17, 6, 6, 15, 12, 15, ...</td>\n",
       "      <td>[1, 3, 3, 3, 1, 1, 1, 1, 1, 1, 1, 1, 1, 3, 3, ...</td>\n",
       "    </tr>\n",
       "  </tbody>\n",
       "</table>\n",
       "</div>"
      ],
      "text/plain": [
       "   pdb_id  chain_code                                                seq  \\\n",
       "0     NaN         NaN  ENLKLGFLVKQPEEPWFQTEWKFADKAGKDLGFEVIKIAVPDGEKT...   \n",
       "1     NaN         NaN  APAFSVSPASGASDGQSVSVSVAAAGETYYIAQCAPVGGQDACNPA...   \n",
       "2     NaN         NaN  GFPIPDPYCWDISFRTFYTIVDDEHKTLFNGILLLSQADNADHLNE...   \n",
       "3     NaN         NaN  RDFTPPTVKILQSSCDGGGHFPPTIQLLCLVSGYTPGTINITWLED...   \n",
       "4     NaN         NaN  RICFNQHSSQPQTTKTCSPGESSCYHKQWSDFRGTIIERGCGCPTV...   \n",
       "\n",
       "                                                sst3  len  \\\n",
       "0  CCCCCCEEECCCCCCCHHHHHHHHHHHHHHCCCCCCEEECCCHHHH...  306   \n",
       "1  CCEEEEECCCCCCCCCEEEEEEECCCCEEEEEEECEECCEECCCCC...  108   \n",
       "2  CCCCCCCCCCCCCCCCCCHHHHHHHHHHHHHHHHHHHCCCHHHHHH...  113   \n",
       "3  CCCCCCEEEEECCCCCCCCCCCCEEEEEEEEEEECCCCCEEEEECC...  322   \n",
       "4  CEEECCCCCCCCCEEECCCCCCCEEEEEEEECCEEEEEEEECCCCC...   62   \n",
       "\n",
       "                                              tokens  \\\n",
       "0  [E, N, L, K, L, G, F, L, V, K, Q, P, E, E, P, ...   \n",
       "1  [A, P, A, F, S, V, S, P, A, S, G, A, S, D, G, ...   \n",
       "2  [G, F, P, I, P, D, P, Y, C, W, D, I, S, F, R, ...   \n",
       "3  [R, D, F, T, P, P, T, V, K, I, L, Q, S, S, C, ...   \n",
       "4  [R, I, C, F, N, Q, H, S, S, Q, P, Q, T, T, K, ...   \n",
       "\n",
       "                                              output  \\\n",
       "0  [C, C, C, C, C, C, E, E, E, C, C, C, C, C, C, ...   \n",
       "1  [C, C, E, E, E, E, E, C, C, C, C, C, C, C, C, ...   \n",
       "2  [C, C, C, C, C, C, C, C, C, C, C, C, C, C, C, ...   \n",
       "3  [C, C, C, C, C, C, E, E, E, E, E, C, C, C, C, ...   \n",
       "4  [C, E, E, E, C, C, C, C, C, C, C, C, C, E, E, ...   \n",
       "\n",
       "                                          tokens_int  \\\n",
       "0  [5, 13, 1, 7, 1, 3, 14, 1, 4, 7, 15, 12, 5, 5,...   \n",
       "1  [2, 12, 2, 14, 6, 4, 6, 12, 2, 6, 3, 2, 6, 8, ...   \n",
       "2  [3, 14, 12, 9, 12, 8, 12, 16, 19, 20, 8, 9, 6,...   \n",
       "3  [11, 8, 14, 10, 12, 12, 10, 4, 7, 9, 1, 15, 6,...   \n",
       "4  [11, 9, 19, 14, 13, 15, 17, 6, 6, 15, 12, 15, ...   \n",
       "\n",
       "                                         outputs_int  \n",
       "0  [1, 1, 1, 1, 1, 1, 3, 3, 3, 1, 1, 1, 1, 1, 1, ...  \n",
       "1  [1, 1, 3, 3, 3, 3, 3, 1, 1, 1, 1, 1, 1, 1, 1, ...  \n",
       "2  [1, 1, 1, 1, 1, 1, 1, 1, 1, 1, 1, 1, 1, 1, 1, ...  \n",
       "3  [1, 1, 1, 1, 1, 1, 3, 3, 3, 3, 3, 1, 1, 1, 1, ...  \n",
       "4  [1, 3, 3, 3, 1, 1, 1, 1, 1, 1, 1, 1, 1, 3, 3, ...  "
      ]
     },
     "execution_count": 105,
     "metadata": {},
     "output_type": "execute_result"
    }
   ],
   "source": [
    "# df_test = df_test.drop(columns=['sst8', 'has_nonstd_aa', 'Exptl.', 'resolution', 'R-factor', 'FreeRvalue']) #Remove sst8 because we do not care about it, we look at sst3.\n",
    "# df_test['tokens'] = df_test['seq'].apply(lambda x: list(x)) #Split invidual characters into tokens\n",
    "# df_test['output'] = df_test['sst3'].apply(lambda x: list(x))\n",
    "\n",
    "# df_test['tokens_int'] = tokenizer.texts_to_sequences(df_test['tokens']) #Convert list to encoded integers\n",
    "\n",
    "# output_mapping = {'C': 1, 'H': 2, 'E': 3} #Mapped to high numbers to efficiently differentiate with the amino acids\n",
    "# df_test['outputs_int'] = df_test['output'].apply(lambda x: [output_mapping[label] for label in x])\n",
    "\n",
    "# df_test.head()\n"
   ]
  },
  {
   "cell_type": "code",
   "execution_count": null,
   "metadata": {},
   "outputs": [
    {
     "name": "stdout",
     "output_type": "stream",
     "text": [
      "1/1 [==============================] - 0s 351ms/step - loss: 0.0250 - accuracy: 0.7793\n",
      "test loss, test acc: [0.025048118084669113, 0.7792613506317139]\n"
     ]
    }
   ],
   "source": [
    "# padded_tokens_test = pad_sequences(df_test['tokens_int'].to_list(), maxlen=max_length, padding='post', value=0)\n",
    "# padded_outputs_test = pad_sequences(df_test['outputs_int'].to_list(), maxlen=max_length, padding='post', value=0)\n",
    "\n",
    "# results = model.evaluate(padded_tokens_test, padded_outputs_test, batch_size=None)\n",
    "# print(\"test loss, test acc:\", results)"
   ]
  },
  {
   "cell_type": "code",
   "execution_count": null,
   "metadata": {},
   "outputs": [],
   "source": [
    "# model.save(\"trained_model.keras\")\n",
    "\n",
    "# dict = Dictionary(df['tokens'])\n",
    "# corpus = [dict.doc2bow(row) for row in df['tokens']]\n",
    "\n",
    "# model = TfidfModel(corpus)\n",
    "# vector = model[corpus[0]]\n",
    "# for id, score in vector:\n",
    "#     token = dict[id]\n",
    "#     print(token, score)\n",
    "\n",
    "\n"
   ]
  },
  {
   "cell_type": "code",
   "execution_count": null,
   "metadata": {},
   "outputs": [],
   "source": [
    "\n",
    "# le = LabelEncoder()\n",
    "# y = le.fit_transform(df['sst3'])\n",
    "\n",
    "# X_train, X_test, y_train, y_test = train_test_split(model[corpus], y, test_size=0.3, random_state=42)"
   ]
  }
 ],
 "metadata": {
  "kernelspec": {
   "display_name": "bachelor",
   "language": "python",
   "name": "python3"
  },
  "language_info": {
   "codemirror_mode": {
    "name": "ipython",
    "version": 3
   },
   "file_extension": ".py",
   "mimetype": "text/x-python",
   "name": "python",
   "nbconvert_exporter": "python",
   "pygments_lexer": "ipython3",
   "version": "3.9.18"
  }
 },
 "nbformat": 4,
 "nbformat_minor": 2
}
