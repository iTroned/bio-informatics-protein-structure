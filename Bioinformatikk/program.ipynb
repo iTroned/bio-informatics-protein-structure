{
 "cells": [
  {
   "cell_type": "code",
   "execution_count": 1,
   "metadata": {},
   "outputs": [],
   "source": [
    "# Imports\n",
    "\n",
    "import pandas as pd"
   ]
  },
  {
   "cell_type": "code",
   "execution_count": 3,
   "metadata": {},
   "outputs": [
    {
     "data": {
      "text/html": [
       "<div>\n",
       "<style scoped>\n",
       "    .dataframe tbody tr th:only-of-type {\n",
       "        vertical-align: middle;\n",
       "    }\n",
       "\n",
       "    .dataframe tbody tr th {\n",
       "        vertical-align: top;\n",
       "    }\n",
       "\n",
       "    .dataframe thead th {\n",
       "        text-align: right;\n",
       "    }\n",
       "</style>\n",
       "<table border=\"1\" class=\"dataframe\">\n",
       "  <thead>\n",
       "    <tr style=\"text-align: right;\">\n",
       "      <th></th>\n",
       "      <th>pdb_id</th>\n",
       "      <th>chain_code</th>\n",
       "      <th>seq</th>\n",
       "      <th>sst8</th>\n",
       "      <th>sst3</th>\n",
       "      <th>len</th>\n",
       "      <th>has_nonstd_aa</th>\n",
       "      <th>Exptl.</th>\n",
       "      <th>resolution</th>\n",
       "      <th>R-factor</th>\n",
       "      <th>FreeRvalue</th>\n",
       "    </tr>\n",
       "  </thead>\n",
       "  <tbody>\n",
       "    <tr>\n",
       "      <th>0</th>\n",
       "      <td>1FV1</td>\n",
       "      <td>F</td>\n",
       "      <td>NPVVHFFKNIVTPRTPPPSQ</td>\n",
       "      <td>CCCCCBCCCCCCCCCCCCCC</td>\n",
       "      <td>CCCCCECCCCCCCCCCCCCC</td>\n",
       "      <td>20</td>\n",
       "      <td>False</td>\n",
       "      <td>XRAY</td>\n",
       "      <td>1.90</td>\n",
       "      <td>0.23</td>\n",
       "      <td>0.27</td>\n",
       "    </tr>\n",
       "    <tr>\n",
       "      <th>1</th>\n",
       "      <td>1LM8</td>\n",
       "      <td>H</td>\n",
       "      <td>DLDLEMLAPYIPMDDDFQLR</td>\n",
       "      <td>CCCCCCCCCBCCSCCCEECC</td>\n",
       "      <td>CCCCCCCCCECCCCCCEECC</td>\n",
       "      <td>20</td>\n",
       "      <td>False</td>\n",
       "      <td>XRAY</td>\n",
       "      <td>1.85</td>\n",
       "      <td>0.20</td>\n",
       "      <td>0.24</td>\n",
       "    </tr>\n",
       "    <tr>\n",
       "      <th>2</th>\n",
       "      <td>1O06</td>\n",
       "      <td>A</td>\n",
       "      <td>EEDPDLKAAIQESLREAEEA</td>\n",
       "      <td>CCCHHHHHHHHHHHHHHHTC</td>\n",
       "      <td>CCCHHHHHHHHHHHHHHHCC</td>\n",
       "      <td>20</td>\n",
       "      <td>False</td>\n",
       "      <td>XRAY</td>\n",
       "      <td>1.45</td>\n",
       "      <td>0.19</td>\n",
       "      <td>0.22</td>\n",
       "    </tr>\n",
       "    <tr>\n",
       "      <th>3</th>\n",
       "      <td>1QOW</td>\n",
       "      <td>D</td>\n",
       "      <td>CTFTLPGGGGVCTLTSECI*</td>\n",
       "      <td>CCTTSCTTCSSTTSSTTCCC</td>\n",
       "      <td>CCCCCCCCCCCCCCCCCCCC</td>\n",
       "      <td>20</td>\n",
       "      <td>True</td>\n",
       "      <td>XRAY</td>\n",
       "      <td>1.06</td>\n",
       "      <td>0.14</td>\n",
       "      <td>1.00</td>\n",
       "    </tr>\n",
       "    <tr>\n",
       "      <th>4</th>\n",
       "      <td>1RDQ</td>\n",
       "      <td>I</td>\n",
       "      <td>TTYADFIASGRTGRRNAIHD</td>\n",
       "      <td>CHHHHHHTSSCSSCCCCEEC</td>\n",
       "      <td>CHHHHHHCCCCCCCCCCEEC</td>\n",
       "      <td>20</td>\n",
       "      <td>False</td>\n",
       "      <td>XRAY</td>\n",
       "      <td>1.26</td>\n",
       "      <td>0.13</td>\n",
       "      <td>0.16</td>\n",
       "    </tr>\n",
       "  </tbody>\n",
       "</table>\n",
       "</div>"
      ],
      "text/plain": [
       "  pdb_id chain_code                   seq                  sst8  \\\n",
       "0   1FV1          F  NPVVHFFKNIVTPRTPPPSQ  CCCCCBCCCCCCCCCCCCCC   \n",
       "1   1LM8          H  DLDLEMLAPYIPMDDDFQLR  CCCCCCCCCBCCSCCCEECC   \n",
       "2   1O06          A  EEDPDLKAAIQESLREAEEA  CCCHHHHHHHHHHHHHHHTC   \n",
       "3   1QOW          D  CTFTLPGGGGVCTLTSECI*  CCTTSCTTCSSTTSSTTCCC   \n",
       "4   1RDQ          I  TTYADFIASGRTGRRNAIHD  CHHHHHHTSSCSSCCCCEEC   \n",
       "\n",
       "                   sst3  len  has_nonstd_aa Exptl.  resolution  R-factor  \\\n",
       "0  CCCCCECCCCCCCCCCCCCC   20          False   XRAY        1.90      0.23   \n",
       "1  CCCCCCCCCECCCCCCEECC   20          False   XRAY        1.85      0.20   \n",
       "2  CCCHHHHHHHHHHHHHHHCC   20          False   XRAY        1.45      0.19   \n",
       "3  CCCCCCCCCCCCCCCCCCCC   20           True   XRAY        1.06      0.14   \n",
       "4  CHHHHHHCCCCCCCCCCEEC   20          False   XRAY        1.26      0.13   \n",
       "\n",
       "   FreeRvalue  \n",
       "0        0.27  \n",
       "1        0.24  \n",
       "2        0.22  \n",
       "3        1.00  \n",
       "4        0.16  "
      ]
     },
     "execution_count": 3,
     "metadata": {},
     "output_type": "execute_result"
    }
   ],
   "source": [
    "df = pd.read_csv('2018-06-06-pdb-intersect-pisces.csv')\n",
    "df.head()"
   ]
  },
  {
   "cell_type": "code",
   "execution_count": 10,
   "metadata": {},
   "outputs": [
    {
     "name": "stdout",
     "output_type": "stream",
     "text": [
      "<class 'pandas.core.frame.DataFrame'>\n",
      "RangeIndex: 9078 entries, 0 to 9077\n",
      "Data columns (total 11 columns):\n",
      " #   Column         Non-Null Count  Dtype  \n",
      "---  ------         --------------  -----  \n",
      " 0   pdb_id         9078 non-null   object \n",
      " 1   chain_code     9078 non-null   object \n",
      " 2   seq            9078 non-null   object \n",
      " 3   sst8           9078 non-null   object \n",
      " 4   sst3           9078 non-null   object \n",
      " 5   len            9078 non-null   int64  \n",
      " 6   has_nonstd_aa  9078 non-null   bool   \n",
      " 7   Exptl.         9078 non-null   object \n",
      " 8   resolution     9078 non-null   float64\n",
      " 9   R-factor       9078 non-null   float64\n",
      " 10  FreeRvalue     9078 non-null   float64\n",
      "dtypes: bool(1), float64(3), int64(1), object(6)\n",
      "memory usage: 718.2+ KB\n"
     ]
    }
   ],
   "source": [
    "df.drop_duplicates() #remove duplicates if any in the dataset\n",
    "df.dropna() #drop NaN values from the dataset if any\n",
    "df.info() #analyse the columns and entries\n"
   ]
  },
  {
   "cell_type": "markdown",
   "metadata": {},
   "source": [
    "Everything looks fine!"
   ]
  },
  {
   "cell_type": "code",
   "execution_count": null,
   "metadata": {},
   "outputs": [],
   "source": []
  },
  {
   "cell_type": "code",
   "execution_count": null,
   "metadata": {},
   "outputs": [],
   "source": []
  }
 ],
 "metadata": {
  "kernelspec": {
   "display_name": "bachelor",
   "language": "python",
   "name": "python3"
  },
  "language_info": {
   "codemirror_mode": {
    "name": "ipython",
    "version": 3
   },
   "file_extension": ".py",
   "mimetype": "text/x-python",
   "name": "python",
   "nbconvert_exporter": "python",
   "pygments_lexer": "ipython3",
   "version": "3.11.0"
  }
 },
 "nbformat": 4,
 "nbformat_minor": 2
}
