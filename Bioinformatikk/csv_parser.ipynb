{
 "cells": [
  {
   "cell_type": "code",
   "execution_count": 1,
   "metadata": {},
   "outputs": [],
   "source": [
    "import csv\n",
    "        "
   ]
  },
  {
   "cell_type": "code",
   "execution_count": 2,
   "metadata": {},
   "outputs": [],
   "source": [
    "def parse_to_csv(in_file_name, out_file_name):\n",
    "    print(f\"Starting to parse {in_file_name} to the file {out_file_name}\")\n",
    "    with open(in_file_name) as readfile:\n",
    "        read_lines = readfile.readlines()\n",
    "\n",
    "    with open(out_file_name, 'w', newline='') as csvfile:\n",
    "        # Initiating the csv writer and write the header\n",
    "        csv_writer = csv.writer(csvfile, delimiter=',', quotechar='\"', quoting=csv.QUOTE_MINIMAL) \n",
    "        csv_writer.writerow([\"pdb_id\", \"chain_code\", \"seq\", \"sst8\", \"sst3\", \"len\", \"has_nonstd_aa\", \"Exptl.\", \"resolution\", \"R-factor\", \"FreeRvalue\"])\n",
    "\n",
    "        # Initiating the variables to store the primary and secondary structure\n",
    "        primary_structure: list[str] = []\n",
    "        secondary_structure: list[str] = []\n",
    "\n",
    "\n",
    "        for line in read_lines:\n",
    "            line = line.strip()\n",
    "\n",
    "            if len(line) == 0: \n",
    "                continue # Skip empty lines\n",
    "\n",
    "            if line == \"end\" or line == \"<end>\": # End of a sequence\n",
    "                #print(\"End of sequence\")\n",
    "                out_primary = \"\".join(primary_structure) # Join the list to a string\n",
    "                \n",
    "\n",
    "                out_secondary = \"\".join(secondary_structure) # Join the list to a string\n",
    "                out_secondary = out_secondary.replace(\"_\", \"C\").upper() # Replace _ with C and make it uppercase\n",
    "\n",
    "                # Write the sequence to the csv file\n",
    "                csv_writer.writerow([\"\", \"\", out_primary, \"\", out_secondary,str(len(out_primary)), \"\", \"\", \"\", \"\", \"\"])\n",
    "                \n",
    "\n",
    "                # Reset sequences\n",
    "                primary_structure.clear()\n",
    "                secondary_structure.clear()\n",
    "                continue\n",
    "\n",
    "            sequence = False\n",
    "            match line[0]:\n",
    "                case \"#\": continue # Skip comments\n",
    "                case \"<\": continue # Skip start and end of sequence\n",
    "                case _ : sequence = True # Empty lines + sequence lines\n",
    "\n",
    "            if sequence: # If its part of a sequence, split it\n",
    "                #print(f\"{line[0]}, {line[2]}\")\n",
    "                primary_structure.append(line[0])\n",
    "                secondary_structure.append(line[2]) \n",
    "    print(f\"Finished parsing {in_file_name} to the file {out_file_name}\")\n"
   ]
  },
  {
   "cell_type": "code",
   "execution_count": 3,
   "metadata": {},
   "outputs": [
    {
     "name": "stdout",
     "output_type": "stream",
     "text": [
      "Starting to parse data/protein-secondary-structure.train to the file protein-secondary-structure.train.csv\n",
      "Finished parsing data/protein-secondary-structure.train to the file protein-secondary-structure.train.csv\n",
      "Starting to parse data/protein-secondary-structure.test to the file protein-secondary-structure.test.csv\n",
      "Finished parsing data/protein-secondary-structure.test to the file protein-secondary-structure.test.csv\n"
     ]
    }
   ],
   "source": [
    "# Parse both files\n",
    "parse_to_csv(\"data/protein-secondary-structure.train\", \"protein-secondary-structure.train.csv\")\n",
    "parse_to_csv(\"data/protein-secondary-structure.test\", \"protein-secondary-structure.test.csv\")\n",
    "           \n",
    "\n",
    "                    "
   ]
  }
 ],
 "metadata": {
  "kernelspec": {
   "display_name": ".venv",
   "language": "python",
   "name": "python3"
  },
  "language_info": {
   "codemirror_mode": {
    "name": "ipython",
    "version": 3
   },
   "file_extension": ".py",
   "mimetype": "text/x-python",
   "name": "python",
   "nbconvert_exporter": "python",
   "pygments_lexer": "ipython3",
   "version": "3.11.8"
  }
 },
 "nbformat": 4,
 "nbformat_minor": 2
}
